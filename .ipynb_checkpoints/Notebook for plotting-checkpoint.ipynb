{
 "cells": [
  {
   "cell_type": "code",
   "execution_count": 1,
   "metadata": {},
   "outputs": [],
   "source": [
    "# -*- coding: utf-8 -*-\n",
    "\"\"\"\n",
    "Created on Sat May 11 19:29:56 2019\n",
    "\n",
    "@author: Rutger & Loc\n",
    "\"\"\"\n",
    "\n",
    "import math\n",
    "import pandas as pd\n",
    "from pandas import Series\n",
    "from matplotlib import pyplot as plt\n",
    "\n",
    "import numpy as np\n",
    "from statsmodels.graphics.tsaplots import plot_acf\n",
    "from statsmodels.tsa.stattools import adfuller\n",
    "from statsmodels.tsa.arima_model import ARIMA\n",
    "from statsmodels.graphics.tsaplots import plot_pacf\n",
    "from sklearn.metrics import mean_squared_error\n",
    "from scipy.stats import skew\n",
    "import os"
   ]
  },
  {
   "cell_type": "code",
   "execution_count": 2,
   "metadata": {},
   "outputs": [],
   "source": [
    "def difference(dataset, interval):\n",
    "    diff = list()\n",
    "    for i in range(interval, len(dataset)):\n",
    "        value = dataset[i] - dataset[i - interval]\n",
    "        diff.append(value)\n",
    "    return Series(diff)"
   ]
  },
  {
   "cell_type": "code",
   "execution_count": 3,
   "metadata": {},
   "outputs": [],
   "source": [
    "%matplotlib ipympl"
   ]
  },
  {
   "cell_type": "markdown",
   "metadata": {},
   "source": [
    "# 1. Exploratory Data Analysis"
   ]
  },
  {
   "cell_type": "code",
   "execution_count": 4,
   "metadata": {},
   "outputs": [
    {
     "name": "stdout",
     "output_type": "stream",
     "text": [
      "C:\\Users\\vinhl\\OneDrive\\[Work] Translate and Class\\[RUG] Dynamic Econometrics\\dynamic_econometrics\n"
     ]
    }
   ],
   "source": [
    "# Make sure that the Excel file is in your working\n",
    "# directory. Also, make sure that you delete all\n",
    "# data prior to 2007 in the Excel file.\n",
    "cwd = os.getcwd()\n",
    "# Loc: Saving this line to run code locally for me\n",
    "# os.chdir('C:\\\\Users\\\\vinhl\\\\OneDrive\\\\[Work] Translate and Class\\\\[RUG] Dynamic Econometrics\\\\dynamic_econometrics')\n",
    "print(cwd)\n",
    "\n",
    "# INDPRO\n",
    "data = pd.read_excel('FREDMD_march2019.xlsx')\n",
    "indpro = pd.DataFrame(data, columns= ['INDPRO'])[0:577] # Select only data upto 2007\n",
    "t10yffm = pd.DataFrame(data, columns= ['T10YFFM'])[0:577] # Select only data upto 2007\n",
    "date = pd.DataFrame(data, columns= ['sasdate'])[0:577] # Select only data upto 2007\n",
    "\n",
    "indpro_temp = indpro.iloc[:,0].values\n",
    "t10yffm_temp = t10yffm.iloc[:,0].values"
   ]
  },
  {
   "cell_type": "markdown",
   "metadata": {},
   "source": [
    "## 1.1. Plotting"
   ]
  },
  {
   "cell_type": "code",
   "execution_count": 5,
   "metadata": {},
   "outputs": [],
   "source": [
    "fig, (ax1, ax2) = plt.subplots(1,2, figsize=(9,3))\n",
    "ax1.plot(date, indpro)\n",
    "ax1.set(xlabel='Time', ylabel='INDPRO')\n",
    "ax2.plot(date, t10yffm)\n",
    "ax2.set(xlabel='Time', ylabel='T10YFFM')\n",
    "plt.show()\n",
    "fig.savefig('INDPRO and T10YFFM against time.png')"
   ]
  },
  {
   "cell_type": "markdown",
   "metadata": {},
   "source": [
    "## 1.2. Stationary test for INDPRO"
   ]
  },
  {
   "cell_type": "code",
   "execution_count": 6,
   "metadata": {},
   "outputs": [
    {
     "name": "stdout",
     "output_type": "stream",
     "text": [
      "ADF Statistic: 0.766433\n",
      "p-value: 0.991075\n",
      "Critical Values:\n",
      "\t1%: -3.442\n",
      "\t5%: -2.867\n",
      "\t10%: -2.569\n"
     ]
    }
   ],
   "source": [
    "## INDPRO w/o first differencing\n",
    "result = adfuller(indpro_temp)\n",
    "print('ADF Statistic: %f' % result[0])\n",
    "print('p-value: %f' % result[1])\n",
    "print('Critical Values:')\n",
    "for key, value in result[4].items():\n",
    "    print('\\t%s: %.3f' % (key, value))"
   ]
  },
  {
   "cell_type": "code",
   "execution_count": 7,
   "metadata": {},
   "outputs": [],
   "source": [
    "plot_acf(indpro_temp, lags=60).show()"
   ]
  },
  {
   "cell_type": "code",
   "execution_count": 8,
   "metadata": {},
   "outputs": [],
   "source": [
    "plot_pacf(indpro_temp, lags=60).show()"
   ]
  },
  {
   "cell_type": "markdown",
   "metadata": {},
   "source": [
    "INDPRO is non-stationary. We should take a) first difference and b) first difference of logs."
   ]
  },
  {
   "cell_type": "markdown",
   "metadata": {},
   "source": [
    "### a) INDPRO first-difference"
   ]
  },
  {
   "cell_type": "code",
   "execution_count": 9,
   "metadata": {},
   "outputs": [
    {
     "data": {
      "text/plain": [
       "[<matplotlib.lines.Line2D at 0x26f546c9ba8>]"
      ]
     },
     "execution_count": 9,
     "metadata": {},
     "output_type": "execute_result"
    }
   ],
   "source": [
    "# INDPRO differenced\n",
    "d_test_indpro = indpro_temp[1:-1] - indpro_temp[0:-2]\n",
    "\n",
    "d_indpro_temp = difference(indpro_temp, 1)\n",
    "\n",
    "date_temp = date.iloc[:,0].values\n",
    "date_temp = np.delete(date_temp,0)\n",
    "\n",
    "plt.plot(date_temp, d_indpro_temp)"
   ]
  },
  {
   "cell_type": "code",
   "execution_count": 10,
   "metadata": {},
   "outputs": [],
   "source": [
    "fig, (ax1, ax2) = plt.subplots(1,2, figsize=(15, 5))\n",
    "plot_acf(d_indpro_temp, lags=60, ax=ax1)\n",
    "plot_pacf(d_indpro_temp, lags=60, ax=ax2)\n",
    "fig.suptitle('First difference of INDPRO')\n",
    "plt.show()"
   ]
  },
  {
   "cell_type": "code",
   "execution_count": 11,
   "metadata": {},
   "outputs": [
    {
     "name": "stdout",
     "output_type": "stream",
     "text": [
      "ADF Statistic: -9.621172\n",
      "p-value: 0.000000\n",
      "Critical Values:\n",
      "\t1%: -3.442\n",
      "\t5%: -2.867\n",
      "\t10%: -2.569\n"
     ]
    }
   ],
   "source": [
    "## INDPRO first differenced\n",
    "result2 = adfuller(d_indpro_temp)\n",
    "print('ADF Statistic: %f' % result2[0])\n",
    "print('p-value: %f' % result2[1])\n",
    "print('Critical Values:')\n",
    "for key, value in result2[4].items():\n",
    "    print('\\t%s: %.3f' % (key, value))"
   ]
  },
  {
   "cell_type": "markdown",
   "metadata": {},
   "source": [
    "After taking first-difference, the series is now stationary."
   ]
  },
  {
   "cell_type": "markdown",
   "metadata": {},
   "source": [
    "### b) INDPRO first-difference of logs"
   ]
  },
  {
   "cell_type": "code",
   "execution_count": 12,
   "metadata": {},
   "outputs": [],
   "source": [
    "# INDPRO differenced log\n",
    "ln_indpro = list()\n",
    "for i in range(0, len(indpro_temp)):\n",
    "    value = math.log(indpro_temp[i])\n",
    "    ln_indpro.append(value)\n",
    "\n",
    "ln_indpro = pd.DataFrame(ln_indpro)\n",
    "ln_indpro_temp = ln_indpro.iloc[:,0].values\n",
    "d_ln_indpro_temp = difference(ln_indpro_temp, 1)\n",
    "\n",
    "plt.plot(date[0:-1], d_ln_indpro_temp)\n",
    "plt.show()"
   ]
  },
  {
   "cell_type": "code",
   "execution_count": 13,
   "metadata": {},
   "outputs": [],
   "source": [
    "fig, (ax1, ax2) = plt.subplots(1,2, figsize=(15, 5))\n",
    "plot_acf(d_ln_indpro_temp, lags=60, ax=ax1)\n",
    "plot_pacf(d_ln_indpro_temp, lags=60, ax=ax2)\n",
    "fig.suptitle('First difference of Log(INDPRO)')\n",
    "plt.show()"
   ]
  },
  {
   "cell_type": "code",
   "execution_count": 14,
   "metadata": {},
   "outputs": [
    {
     "name": "stdout",
     "output_type": "stream",
     "text": [
      "ADF Statistic: -10.019292\n",
      "p-value: 0.000000\n",
      "Critical Values:\n",
      "\t1%: -3.442\n",
      "\t5%: -2.867\n",
      "\t10%: -2.569\n"
     ]
    }
   ],
   "source": [
    "## INDPRO first differenced log\n",
    "result3 = adfuller(d_ln_indpro_temp)\n",
    "print('ADF Statistic: %f' % result3[0])\n",
    "print('p-value: %f' % result3[1])\n",
    "print('Critical Values:')\n",
    "for key, value in result3[4].items():\n",
    "    print('\\t%s: %.3f' % (key, value))"
   ]
  },
  {
   "cell_type": "markdown",
   "metadata": {},
   "source": [
    "First-difference of logs is also stationary."
   ]
  },
  {
   "cell_type": "code",
   "execution_count": 15,
   "metadata": {},
   "outputs": [
    {
     "name": "stdout",
     "output_type": "stream",
     "text": [
      "Skewness: -0.405701\n"
     ]
    }
   ],
   "source": [
    "print('Skewness: %f' % skew(d_indpro_temp))"
   ]
  },
  {
   "cell_type": "code",
   "execution_count": 16,
   "metadata": {},
   "outputs": [
    {
     "name": "stdout",
     "output_type": "stream",
     "text": [
      "Skewness: -0.016253\n"
     ]
    }
   ],
   "source": [
    "print('Skewness: %f' % skew(d_ln_indpro_temp))"
   ]
  },
  {
   "cell_type": "markdown",
   "metadata": {},
   "source": [
    "## 1.3. Stationary test for T10YFFM"
   ]
  },
  {
   "cell_type": "code",
   "execution_count": 17,
   "metadata": {},
   "outputs": [
    {
     "name": "stdout",
     "output_type": "stream",
     "text": [
      "ADF Statistic: -4.758713\n",
      "p-value: 0.000065\n",
      "Critical Values:\n",
      "\t1%: -3.442\n",
      "\t5%: -2.867\n",
      "\t10%: -2.570\n"
     ]
    }
   ],
   "source": [
    "## adfuller T10YFFM\n",
    "t10yffm_temp = t10yffm.iloc[:,0].values\n",
    "result4 = adfuller(t10yffm_temp)\n",
    "print('ADF Statistic: %f' % result4[0])\n",
    "print('p-value: %f' % result4[1])\n",
    "print('Critical Values:')\n",
    "for key, value in result4[4].items():\n",
    "    print('\\t%s: %.3f' % (key, value))"
   ]
  },
  {
   "cell_type": "code",
   "execution_count": 18,
   "metadata": {},
   "outputs": [],
   "source": [
    "fig, (ax1, ax2) = plt.subplots(1,2, figsize=(15, 5))\n",
    "plot_acf(t10yffm, lags=60, ax=ax1)\n",
    "plot_pacf(t10yffm, lags=60, ax=ax2)\n",
    "fig.suptitle('T10YFFM')\n",
    "plt.show()\n",
    "fig.savefig('ACF PACF T10YFFM.png')"
   ]
  },
  {
   "cell_type": "markdown",
   "metadata": {},
   "source": [
    "T10YFFM is stationary, and thus no further transformation is needed."
   ]
  },
  {
   "cell_type": "markdown",
   "metadata": {},
   "source": [
    "# 2. Fitting Model"
   ]
  },
  {
   "cell_type": "markdown",
   "metadata": {},
   "source": [
    "## 2.1. ARIMA onto INDPRO"
   ]
  },
  {
   "cell_type": "markdown",
   "metadata": {},
   "source": [
    "### a) ARIMA (4, 1, 0) on original series"
   ]
  },
  {
   "cell_type": "code",
   "execution_count": 19,
   "metadata": {},
   "outputs": [
    {
     "name": "stdout",
     "output_type": "stream",
     "text": [
      "                             ARIMA Model Results                              \n",
      "==============================================================================\n",
      "Dep. Variable:               D.INDPRO   No. Observations:                  576\n",
      "Model:                 ARIMA(3, 1, 0)   Log Likelihood                -259.332\n",
      "Method:                       css-mle   S.D. of innovations              0.380\n",
      "Date:                Mon, 20 May 2019   AIC                            528.665\n",
      "Time:                        03:28:57   BIC                            550.445\n",
      "Sample:                             1   HQIC                           537.159\n",
      "                                                                              \n",
      "==================================================================================\n",
      "                     coef    std err          z      P>|z|      [0.025      0.975]\n",
      "----------------------------------------------------------------------------------\n",
      "const              0.1392      0.029      4.812      0.000       0.083       0.196\n",
      "ar.L1.D.INDPRO     0.1603      0.042      3.863      0.000       0.079       0.242\n",
      "ar.L2.D.INDPRO     0.1790      0.042      4.295      0.000       0.097       0.261\n",
      "ar.L3.D.INDPRO     0.1156      0.042      2.770      0.006       0.034       0.197\n",
      "                                    Roots                                    \n",
      "=============================================================================\n",
      "                  Real          Imaginary           Modulus         Frequency\n",
      "-----------------------------------------------------------------------------\n",
      "AR.1            1.4772           -0.0000j            1.4772           -0.0000\n",
      "AR.2           -1.5129           -1.8889j            2.4201           -0.3575\n",
      "AR.3           -1.5129           +1.8889j            2.4201            0.3575\n",
      "-----------------------------------------------------------------------------\n"
     ]
    },
    {
     "name": "stderr",
     "output_type": "stream",
     "text": [
      "C:\\ProgramData\\Miniconda3\\lib\\site-packages\\scipy\\signal\\signaltools.py:1341: FutureWarning: Using a non-tuple sequence for multidimensional indexing is deprecated; use `arr[tuple(seq)]` instead of `arr[seq]`. In the future this will be interpreted as an array index, `arr[np.array(seq)]`, which will result either in an error or a different result.\n",
      "  out_full[ind] += zi\n",
      "C:\\ProgramData\\Miniconda3\\lib\\site-packages\\scipy\\signal\\signaltools.py:1344: FutureWarning: Using a non-tuple sequence for multidimensional indexing is deprecated; use `arr[tuple(seq)]` instead of `arr[seq]`. In the future this will be interpreted as an array index, `arr[np.array(seq)]`, which will result either in an error or a different result.\n",
      "  out = out_full[ind]\n",
      "C:\\ProgramData\\Miniconda3\\lib\\site-packages\\scipy\\signal\\signaltools.py:1350: FutureWarning: Using a non-tuple sequence for multidimensional indexing is deprecated; use `arr[tuple(seq)]` instead of `arr[seq]`. In the future this will be interpreted as an array index, `arr[np.array(seq)]`, which will result either in an error or a different result.\n",
      "  zf = out_full[ind]\n"
     ]
    }
   ],
   "source": [
    "## fit model ARIMA(4,1,0), differencing done\n",
    "## by ARIMA\n",
    "model = ARIMA(indpro, order=(3, 1, 0))\n",
    "model_fit = model.fit(disp=0)\n",
    "print(model_fit.summary())"
   ]
  },
  {
   "cell_type": "code",
   "execution_count": 20,
   "metadata": {},
   "outputs": [
    {
     "name": "stdout",
     "output_type": "stream",
     "text": [
      "                0\n",
      "count  576.000000\n",
      "mean    -0.000466\n",
      "std      0.379870\n",
      "min     -1.973038\n",
      "25%     -0.219334\n",
      "50%      0.002236\n",
      "75%      0.198166\n",
      "max      1.789489\n"
     ]
    }
   ],
   "source": [
    "residuals = pd.DataFrame(model_fit.resid)\n",
    "plot_acf(residuals, lags=100)\n",
    "residuals.plot()\n",
    "plt.show()\n",
    "residuals.plot(kind='kde')\n",
    "plt.show()\n",
    "print(residuals.describe())"
   ]
  },
  {
   "cell_type": "markdown",
   "metadata": {},
   "source": [
    "Notice that the acf plot of the residuals shows no serial correlation, which implies that there is no need to include an MA (q) coefficient in the ARIMA model also notice that the distribution of the residuals has mean zero, which is good."
   ]
  },
  {
   "cell_type": "markdown",
   "metadata": {},
   "source": [
    "### b) ARIMA (4, 0, 0) on differenced series"
   ]
  },
  {
   "cell_type": "code",
   "execution_count": 21,
   "metadata": {},
   "outputs": [
    {
     "name": "stdout",
     "output_type": "stream",
     "text": [
      "                              ARMA Model Results                              \n",
      "==============================================================================\n",
      "Dep. Variable:                      0   No. Observations:                  576\n",
      "Model:                     ARMA(4, 0)   Log Likelihood                -259.228\n",
      "Method:                       css-mle   S.D. of innovations              0.379\n",
      "Date:                Mon, 20 May 2019   AIC                            530.456\n",
      "Time:                        03:28:58   BIC                            556.592\n",
      "Sample:                             0   HQIC                           540.649\n",
      "                                                                              \n",
      "==============================================================================\n",
      "                 coef    std err          z      P>|z|      [0.025      0.975]\n",
      "------------------------------------------------------------------------------\n",
      "const          0.1393      0.029      4.724      0.000       0.081       0.197\n",
      "ar.L1.0        0.1582      0.042      3.788      0.000       0.076       0.240\n",
      "ar.L2.0        0.1756      0.042      4.148      0.000       0.093       0.259\n",
      "ar.L3.0        0.1123      0.042      2.653      0.008       0.029       0.195\n",
      "ar.L4.0        0.0192      0.042      0.457      0.648      -0.063       0.101\n",
      "                                    Roots                                    \n",
      "=============================================================================\n",
      "                  Real          Imaginary           Modulus         Frequency\n",
      "-----------------------------------------------------------------------------\n",
      "AR.1            1.4339           -0.0000j            1.4339           -0.0000\n",
      "AR.2           -1.2550           -2.4564j            2.7584           -0.3252\n",
      "AR.3           -1.2550           +2.4564j            2.7584            0.3252\n",
      "AR.4           -4.7767           -0.0000j            4.7767           -0.5000\n",
      "-----------------------------------------------------------------------------\n"
     ]
    },
    {
     "name": "stderr",
     "output_type": "stream",
     "text": [
      "C:\\ProgramData\\Miniconda3\\lib\\site-packages\\scipy\\signal\\signaltools.py:1341: FutureWarning: Using a non-tuple sequence for multidimensional indexing is deprecated; use `arr[tuple(seq)]` instead of `arr[seq]`. In the future this will be interpreted as an array index, `arr[np.array(seq)]`, which will result either in an error or a different result.\n",
      "  out_full[ind] += zi\n",
      "C:\\ProgramData\\Miniconda3\\lib\\site-packages\\scipy\\signal\\signaltools.py:1344: FutureWarning: Using a non-tuple sequence for multidimensional indexing is deprecated; use `arr[tuple(seq)]` instead of `arr[seq]`. In the future this will be interpreted as an array index, `arr[np.array(seq)]`, which will result either in an error or a different result.\n",
      "  out = out_full[ind]\n",
      "C:\\ProgramData\\Miniconda3\\lib\\site-packages\\scipy\\signal\\signaltools.py:1350: FutureWarning: Using a non-tuple sequence for multidimensional indexing is deprecated; use `arr[tuple(seq)]` instead of `arr[seq]`. In the future this will be interpreted as an array index, `arr[np.array(seq)]`, which will result either in an error or a different result.\n",
      "  zf = out_full[ind]\n"
     ]
    }
   ],
   "source": [
    "## fit model ARIMA(4,0,0), differencing done by me\n",
    "## beforehand. So this is essentially an ARMA(4, 0)\n",
    "## model on the already differenced data\n",
    "d_indpro = pd.DataFrame(d_indpro_temp)\n",
    "model2 = ARIMA(d_indpro, order=(4, 0, 0))\n",
    "model_fit2 = model2.fit(disp=0)\n",
    "print(model_fit2.summary())"
   ]
  },
  {
   "cell_type": "code",
   "execution_count": 22,
   "metadata": {},
   "outputs": [
    {
     "name": "stdout",
     "output_type": "stream",
     "text": [
      "                0\n",
      "count  576.000000\n",
      "mean    -0.000501\n",
      "std      0.379801\n",
      "min     -1.973352\n",
      "25%     -0.213604\n",
      "50%      0.001509\n",
      "75%      0.194916\n",
      "max      1.784031\n"
     ]
    }
   ],
   "source": [
    "residuals = pd.DataFrame(model_fit2.resid)\n",
    "plot_acf(residuals, lags=100)\n",
    "residuals.plot()\n",
    "plt.show()\n",
    "residuals.plot(kind='kde')\n",
    "plt.show()\n",
    "print(residuals.describe())"
   ]
  },
  {
   "cell_type": "code",
   "execution_count": 23,
   "metadata": {},
   "outputs": [
    {
     "name": "stdout",
     "output_type": "stream",
     "text": [
      "                              ARMA Model Results                              \n",
      "==============================================================================\n",
      "Dep. Variable:                      0   No. Observations:                  576\n",
      "Model:                     ARMA(1, 0)   Log Likelihood                1994.167\n",
      "Method:                       css-mle   S.D. of innovations              0.008\n",
      "Date:                Mon, 20 May 2019   AIC                          -3982.334\n",
      "Time:                        03:28:58   BIC                          -3969.266\n",
      "Sample:                             0   HQIC                         -3977.238\n",
      "                                                                              \n",
      "==============================================================================\n",
      "                 coef    std err          z      P>|z|      [0.025      0.975]\n",
      "------------------------------------------------------------------------------\n",
      "const          0.0026      0.000      5.375      0.000       0.002       0.004\n",
      "ar.L1.0        0.3547      0.039      9.070      0.000       0.278       0.431\n",
      "                                    Roots                                    \n",
      "=============================================================================\n",
      "                  Real          Imaginary           Modulus         Frequency\n",
      "-----------------------------------------------------------------------------\n",
      "AR.1            2.8192           +0.0000j            2.8192            0.0000\n",
      "-----------------------------------------------------------------------------\n"
     ]
    },
    {
     "name": "stderr",
     "output_type": "stream",
     "text": [
      "C:\\ProgramData\\Miniconda3\\lib\\site-packages\\scipy\\signal\\signaltools.py:1341: FutureWarning: Using a non-tuple sequence for multidimensional indexing is deprecated; use `arr[tuple(seq)]` instead of `arr[seq]`. In the future this will be interpreted as an array index, `arr[np.array(seq)]`, which will result either in an error or a different result.\n",
      "  out_full[ind] += zi\n",
      "C:\\ProgramData\\Miniconda3\\lib\\site-packages\\scipy\\signal\\signaltools.py:1344: FutureWarning: Using a non-tuple sequence for multidimensional indexing is deprecated; use `arr[tuple(seq)]` instead of `arr[seq]`. In the future this will be interpreted as an array index, `arr[np.array(seq)]`, which will result either in an error or a different result.\n",
      "  out = out_full[ind]\n",
      "C:\\ProgramData\\Miniconda3\\lib\\site-packages\\scipy\\signal\\signaltools.py:1350: FutureWarning: Using a non-tuple sequence for multidimensional indexing is deprecated; use `arr[tuple(seq)]` instead of `arr[seq]`. In the future this will be interpreted as an array index, `arr[np.array(seq)]`, which will result either in an error or a different result.\n",
      "  zf = out_full[ind]\n"
     ]
    }
   ],
   "source": [
    "## fit model ARIMA(1,0,0) on differenced log\n",
    "d_ln_indpro = pd.DataFrame(d_ln_indpro_temp)\n",
    "model3 = ARIMA(d_ln_indpro, order=(1, 0, 0))\n",
    "model_fit3 = model3.fit(disp=0)\n",
    "print(model_fit3.summary())"
   ]
  },
  {
   "cell_type": "code",
   "execution_count": 24,
   "metadata": {},
   "outputs": [
    {
     "name": "stdout",
     "output_type": "stream",
     "text": [
      "                0\n",
      "count  576.000000\n",
      "mean    -0.000010\n",
      "std      0.007599\n",
      "min     -0.033706\n",
      "25%     -0.004136\n",
      "50%      0.000177\n",
      "75%      0.003852\n",
      "max      0.056126\n"
     ]
    }
   ],
   "source": [
    "residuals = pd.DataFrame(model_fit3.resid)\n",
    "plot_acf(residuals, lags=100)\n",
    "residuals.plot()\n",
    "plt.show()\n",
    "residuals.plot(kind='kde')\n",
    "plt.show()\n",
    "print(residuals.describe())"
   ]
  },
  {
   "cell_type": "markdown",
   "metadata": {},
   "source": [
    "@Rutger:\n",
    "`model2` is equivalent to `model`; hence, my differenced series is differenced, in the same way as the ARIMA function differences."
   ]
  },
  {
   "cell_type": "markdown",
   "metadata": {},
   "source": [
    "## 2.2. ARIMA onto T10YFFM"
   ]
  },
  {
   "cell_type": "code",
   "execution_count": 25,
   "metadata": {},
   "outputs": [
    {
     "name": "stdout",
     "output_type": "stream",
     "text": [
      "                              ARMA Model Results                              \n",
      "==============================================================================\n",
      "Dep. Variable:                T10YFFM   No. Observations:                  577\n",
      "Model:                     ARMA(1, 1)   Log Likelihood                -426.494\n",
      "Method:                       css-mle   S.D. of innovations              0.506\n",
      "Date:                Mon, 20 May 2019   AIC                            860.987\n",
      "Time:                        03:28:59   BIC                            878.419\n",
      "Sample:                             0   HQIC                           867.785\n",
      "                                                                              \n",
      "=================================================================================\n",
      "                    coef    std err          z      P>|z|      [0.025      0.975]\n",
      "---------------------------------------------------------------------------------\n",
      "const             0.8603      0.323      2.661      0.008       0.227       1.494\n",
      "ar.L1.T10YFFM     0.9113      0.018     51.374      0.000       0.877       0.946\n",
      "ma.L1.T10YFFM     0.3876      0.043      8.913      0.000       0.302       0.473\n",
      "                                    Roots                                    \n",
      "=============================================================================\n",
      "                  Real          Imaginary           Modulus         Frequency\n",
      "-----------------------------------------------------------------------------\n",
      "AR.1            1.0974           +0.0000j            1.0974            0.0000\n",
      "MA.1           -2.5801           +0.0000j            2.5801            0.5000\n",
      "-----------------------------------------------------------------------------\n"
     ]
    }
   ],
   "source": [
    "# ARIMA T10YFFM\n",
    "model4 = ARIMA(t10yffm, order=(1, 0, 1))\n",
    "model_fit4 = model4.fit(disp=0)\n",
    "print(model_fit4.summary())"
   ]
  },
  {
   "cell_type": "code",
   "execution_count": 26,
   "metadata": {},
   "outputs": [
    {
     "name": "stdout",
     "output_type": "stream",
     "text": [
      "                0\n",
      "count  577.000000\n",
      "mean    -0.000455\n",
      "std      0.506774\n",
      "min     -3.226804\n",
      "25%     -0.167601\n",
      "50%     -0.002300\n",
      "75%      0.186561\n",
      "max      5.075297\n"
     ]
    }
   ],
   "source": [
    "residuals = pd.DataFrame(model_fit4.resid)\n",
    "plot_acf(residuals, lags=100)\n",
    "residuals.plot()\n",
    "plt.show()\n",
    "residuals.plot(kind='kde')\n",
    "plt.show()\n",
    "print(residuals.describe())"
   ]
  },
  {
   "cell_type": "markdown",
   "metadata": {},
   "source": [
    "# 3. Forecasting using Selected Models"
   ]
  },
  {
   "cell_type": "markdown",
   "metadata": {},
   "source": [
    "## 3.1. INDPRO"
   ]
  },
  {
   "cell_type": "code",
   "execution_count": 27,
   "metadata": {},
   "outputs": [
    {
     "name": "stderr",
     "output_type": "stream",
     "text": [
      "C:\\ProgramData\\Miniconda3\\lib\\site-packages\\scipy\\signal\\signaltools.py:1341: FutureWarning: Using a non-tuple sequence for multidimensional indexing is deprecated; use `arr[tuple(seq)]` instead of `arr[seq]`. In the future this will be interpreted as an array index, `arr[np.array(seq)]`, which will result either in an error or a different result.\n",
      "  out_full[ind] += zi\n",
      "C:\\ProgramData\\Miniconda3\\lib\\site-packages\\scipy\\signal\\signaltools.py:1344: FutureWarning: Using a non-tuple sequence for multidimensional indexing is deprecated; use `arr[tuple(seq)]` instead of `arr[seq]`. In the future this will be interpreted as an array index, `arr[np.array(seq)]`, which will result either in an error or a different result.\n",
      "  out = out_full[ind]\n",
      "C:\\ProgramData\\Miniconda3\\lib\\site-packages\\scipy\\signal\\signaltools.py:1350: FutureWarning: Using a non-tuple sequence for multidimensional indexing is deprecated; use `arr[tuple(seq)]` instead of `arr[seq]`. In the future this will be interpreted as an array index, `arr[np.array(seq)]`, which will result either in an error or a different result.\n",
      "  zf = out_full[ind]\n"
     ]
    },
    {
     "name": "stdout",
     "output_type": "stream",
     "text": [
      "Test MSE: 0.207\n"
     ]
    }
   ],
   "source": [
    "## forecasting last 34% of d_indpro using ARMA(4, 0)\n",
    "X = d_indpro.values\n",
    "len(X) *0.66\n",
    "int(len(X) *0.66)\n",
    "size = int(len(X) *0.66)\n",
    "train, test = X[0:size], X[size:len(X)]\n",
    "history = [x for x in train]\n",
    "predictions = list()\n",
    "for t in range(len(test)):\n",
    "    model = ARIMA(history, order=(4, 0, 0))\n",
    "    model_fit = model.fit(disp=0)\n",
    "    output = model_fit.forecast()\n",
    "    yhat = output[0]\n",
    "    predictions.append(yhat)\n",
    "    obs = test[t]\n",
    "    history.append(obs)\n",
    "    # maybe put a # in front of the line below\n",
    "    #print('predicted=%f, expected=%f' % (yhat, obs))\n",
    "error = mean_squared_error(test, predictions)\n",
    "print('Test MSE: %.3f' % error)\n",
    "\n",
    "plt.plot(test)\n",
    "plt.plot(predictions, color='red')\n",
    "plt.show()"
   ]
  },
  {
   "cell_type": "code",
   "execution_count": 28,
   "metadata": {},
   "outputs": [
    {
     "name": "stderr",
     "output_type": "stream",
     "text": [
      "C:\\ProgramData\\Miniconda3\\lib\\site-packages\\scipy\\signal\\signaltools.py:1341: FutureWarning: Using a non-tuple sequence for multidimensional indexing is deprecated; use `arr[tuple(seq)]` instead of `arr[seq]`. In the future this will be interpreted as an array index, `arr[np.array(seq)]`, which will result either in an error or a different result.\n",
      "  out_full[ind] += zi\n",
      "C:\\ProgramData\\Miniconda3\\lib\\site-packages\\scipy\\signal\\signaltools.py:1344: FutureWarning: Using a non-tuple sequence for multidimensional indexing is deprecated; use `arr[tuple(seq)]` instead of `arr[seq]`. In the future this will be interpreted as an array index, `arr[np.array(seq)]`, which will result either in an error or a different result.\n",
      "  out = out_full[ind]\n",
      "C:\\ProgramData\\Miniconda3\\lib\\site-packages\\scipy\\signal\\signaltools.py:1350: FutureWarning: Using a non-tuple sequence for multidimensional indexing is deprecated; use `arr[tuple(seq)]` instead of `arr[seq]`. In the future this will be interpreted as an array index, `arr[np.array(seq)]`, which will result either in an error or a different result.\n",
      "  zf = out_full[ind]\n",
      "C:\\ProgramData\\Miniconda3\\lib\\site-packages\\statsmodels\\base\\model.py:508: ConvergenceWarning: Maximum Likelihood optimization failed to converge. Check mle_retvals\n",
      "  \"Check mle_retvals\", ConvergenceWarning)\n"
     ]
    },
    {
     "name": "stdout",
     "output_type": "stream",
     "text": [
      "Test MSE: 0.000\n"
     ]
    }
   ],
   "source": [
    "## forecasting last 34% of d_ln_indpro using ARMA(1, 0)\n",
    "X = d_ln_indpro.values\n",
    "size = int(len(X) *0.66)\n",
    "train, test = X[0:size], X[size:len(X)]\n",
    "history = [x for x in train]\n",
    "predictions = list()\n",
    "for t in range(len(test)):\n",
    "    model = ARIMA(history, order=(1, 0, 0))\n",
    "    model_fit = model.fit(disp=0)\n",
    "    output = model_fit.forecast()\n",
    "    yhat = output[0]\n",
    "    predictions.append(yhat)\n",
    "    obs = test[t]\n",
    "    history.append(obs)\n",
    "    # maybe put a # in front of the line below\n",
    "    #print('predicted=%f, expected=%f' % (yhat, obs))\n",
    "error = mean_squared_error(test, predictions)\n",
    "print('Test MSE: %.3f' % error)\n",
    "\n",
    "plt.plot(test)\n",
    "plt.plot(predictions, color='red')\n",
    "plt.show()"
   ]
  },
  {
   "cell_type": "code",
   "execution_count": 29,
   "metadata": {},
   "outputs": [
    {
     "name": "stderr",
     "output_type": "stream",
     "text": [
      "C:\\ProgramData\\Miniconda3\\lib\\site-packages\\scipy\\signal\\signaltools.py:1341: FutureWarning: Using a non-tuple sequence for multidimensional indexing is deprecated; use `arr[tuple(seq)]` instead of `arr[seq]`. In the future this will be interpreted as an array index, `arr[np.array(seq)]`, which will result either in an error or a different result.\n",
      "  out_full[ind] += zi\n",
      "C:\\ProgramData\\Miniconda3\\lib\\site-packages\\scipy\\signal\\signaltools.py:1344: FutureWarning: Using a non-tuple sequence for multidimensional indexing is deprecated; use `arr[tuple(seq)]` instead of `arr[seq]`. In the future this will be interpreted as an array index, `arr[np.array(seq)]`, which will result either in an error or a different result.\n",
      "  out = out_full[ind]\n",
      "C:\\ProgramData\\Miniconda3\\lib\\site-packages\\scipy\\signal\\signaltools.py:1350: FutureWarning: Using a non-tuple sequence for multidimensional indexing is deprecated; use `arr[tuple(seq)]` instead of `arr[seq]`. In the future this will be interpreted as an array index, `arr[np.array(seq)]`, which will result either in an error or a different result.\n",
      "  zf = out_full[ind]\n"
     ]
    },
    {
     "name": "stdout",
     "output_type": "stream",
     "text": [
      "Test MSE: 0.000029757\n",
      "Test MSE: 0.000029757\n"
     ]
    }
   ],
   "source": [
    "## forecasting last 34% of d_ln_indpro using ARMA(3, 0)\n",
    "X = d_ln_indpro.values\n",
    "size = int(len(X) *0.66)\n",
    "train, test = X[0:size], X[size:len(X)]\n",
    "history = [x for x in train]\n",
    "predictions = list()\n",
    "for t in range(len(test)):\n",
    "    model = ARIMA(history, order=(3, 0, 0))\n",
    "    model_fit = model.fit(disp=0)\n",
    "    output = model_fit.forecast()\n",
    "    yhat = output[0]\n",
    "    predictions.append(yhat)\n",
    "    obs = test[t]\n",
    "    history.append(obs)\n",
    "    # maybe put a # in front of the line below\n",
    "    #print('predicted=%f, expected=%f' % (yhat, obs))\n",
    "error = mean_squared_error(test, predictions)\n",
    "print('Test MSE: %.9f' % ((test-predictions)**2).mean())\n",
    "print('Test MSE: %.9f' % error)\n",
    "\n",
    "plt.plot(test)\n",
    "plt.plot(predictions, color='red')\n",
    "plt.show()"
   ]
  },
  {
   "cell_type": "markdown",
   "metadata": {},
   "source": [
    "## 3.2. T10YFFM"
   ]
  },
  {
   "cell_type": "code",
   "execution_count": null,
   "metadata": {},
   "outputs": [],
   "source": []
  }
 ],
 "metadata": {
  "kernelspec": {
   "display_name": "Python 3",
   "language": "python",
   "name": "python3"
  },
  "language_info": {
   "codemirror_mode": {
    "name": "ipython",
    "version": 3
   },
   "file_extension": ".py",
   "mimetype": "text/x-python",
   "name": "python",
   "nbconvert_exporter": "python",
   "pygments_lexer": "ipython3",
   "version": "3.6.6"
  }
 },
 "nbformat": 4,
 "nbformat_minor": 2
}
